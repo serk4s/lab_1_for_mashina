{
 "cells": [
  {
   "cell_type": "markdown",
   "id": "fbc1b5f1",
   "metadata": {},
   "source": [
    "## №1 (5 баллов)\n",
    "### Напишите программы, которые создают следующие массивы NumPy:"
   ]
  },
  {
   "cell_type": "code",
   "execution_count": null,
   "id": "b8b18d67",
   "metadata": {},
   "outputs": [],
   "source": [
    "import numpy as np"
   ]
  },
  {
   "cell_type": "code",
   "execution_count": null,
   "id": "96c183ad",
   "metadata": {},
   "outputs": [
    {
     "data": {
      "text/plain": [
       "Размер массива в памяти: 32 байт\n",
       "Тип данных элементов: int64\n",
       "\n",
       "Содержимое текстового файла:\n",
       "1.000000000000000000e+00\n",
       "7.000000000000000000e+00\n",
       "1.300000000000000000e+01\n",
       "1.050000000000000000e+02\n",
       "\n",
       "\n",
       "Загруженный из бинарного файла массив:\n",
       "[  1   7  13 105]\n"
      ]
     },
     "metadata": {},
     "output_type": "display_data"
    }
   ],
   "source": [
    "# 1. Массив со значениями 1, 7, 13, 105\n",
    "\n",
    "# Создаем массив с заданными значениями\n",
    "arr1 = np.array([1, 7, 13, 105])\n",
    "\n",
    "# Проверяем использование памяти\n",
    "print(f\"Размер массива в памяти: {arr1.nbytes} байт\")\n",
    "print(f\"Тип данных элементов: {arr1.dtype}\")\n",
    "\n",
    "# Сохраняем в текстовый файл\n",
    "np.savetxt('array1.txt', arr1)\n",
    "print(\"\\nСодержимое текстового файла:\")\n",
    "with open('array1.txt', 'r') as f:\n",
    "    print(f.read())\n",
    "\n",
    "# Сохраняем в бинарный файл\n",
    "np.save('array1.npy', arr1)\n",
    "\n",
    "# Загружаем из бинарного файла\n",
    "loaded_arr = np.load('array1.npy')\n",
    "print(\"\\nЗагруженный из бинарного файла массив:\")\n",
    "print(loaded_arr)"
   ]
  },
  {
   "cell_type": "code",
   "execution_count": null,
   "id": "963b15a0",
   "metadata": {},
   "outputs": [
    {
     "data": {
      "text/plain": [
       "Массивы из нулей, единиц и пятёрок:\n",
       "Нули: [0 0 0 0 0 0 0 0 0 0]\n",
       "Единицы: [1 1 1 1 1 1 1 1 1 1]\n",
       "Пятёрки: [5 5 5 5 5 5 5 5 5 5]\n"
      ]
     },
     "metadata": {},
     "output_type": "display_data"
    }
   ],
   "source": [
    "# 2. Три массива: нули, единицы, пятёрки\n",
    "zeros = np.zeros(10, dtype=np.int8)  # Используем int8 для экономии памяти\n",
    "ones = np.ones(10, dtype=np.int8)\n",
    "fives = np.full(10, 5, dtype=np.int8)\n",
    "\n",
    "print(\"Массивы из нулей, единиц и пятёрок:\")\n",
    "print(\"Нули:\", zeros)\n",
    "print(\"Единицы:\", ones)\n",
    "print(\"Пятёрки:\", fives)"
   ]
  },
  {
   "cell_type": "code",
   "execution_count": null,
   "id": "cc38340d",
   "metadata": {},
   "outputs": [
    {
     "data": {
      "text/plain": [
       "\n",
       "Чётные числа от 30 до 70:\n",
       "[30 32 34 36 38 40 42 44 46 48 50 52 54 56 58 60 62 64 66 68 70]\n"
      ]
     },
     "metadata": {},
     "output_type": "display_data"
    }
   ],
   "source": [
    "# 3. Чётные числа от 30 до 70\n",
    "evens = np.arange(30, 71, 2)\n",
    "print(\"\\nЧётные числа от 30 до 70:\")\n",
    "print(evens)"
   ]
  },
  {
   "cell_type": "code",
   "execution_count": null,
   "id": "27f1fcd5",
   "metadata": {},
   "outputs": [
    {
     "data": {
      "text/plain": [
       "\n",
       "Равномерное распределение от 5 до 50:\n",
       "[ 5. 10. 15. 20. 25. 30. 35. 40. 45. 50.]\n"
      ]
     },
     "metadata": {},
     "output_type": "display_data"
    }
   ],
   "source": [
    "# 4. Равномерное распределение от 5 до 50\n",
    "uniform = np.linspace(5, 50, 10)\n",
    "print(\"\\nРавномерное распределение от 5 до 50:\")\n",
    "print(uniform)"
   ]
  },
  {
   "cell_type": "code",
   "execution_count": null,
   "id": "42df4466",
   "metadata": {},
   "outputs": [
    {
     "data": {
      "text/plain": [
       "\n",
       "3D массив 3x3x3 со случайными числами:\n",
       "[[[73 19 15]\n",
       "  [57 37 23]\n",
       "  [74 24 83]]\n",
       "\n",
       " [[ 2 25 12]\n",
       "  [27 57 68]\n",
       "  [38 49 41]]\n",
       "\n",
       " [[68 80 68]\n",
       "  [40 74 53]\n",
       "  [40 10 77]]]\n"
      ]
     },
     "metadata": {},
     "output_type": "display_data"
    }
   ],
   "source": [
    "# 5. 3D массив 3x3x3 со случайными числами\n",
    "rng = np.random.default_rng()\n",
    "random_3d = rng.integers(1, 100, size=(3, 3, 3))\n",
    "print(\"\\n3D массив 3x3x3 со случайными числами:\")\n",
    "print(random_3d)"
   ]
  },
  {
   "cell_type": "code",
   "execution_count": null,
   "id": "021a4668",
   "metadata": {},
   "outputs": [
    {
     "data": {
      "text/plain": [
       "\n",
       "Матрица 3x4 с числами от 30 до 41:\n",
       "[[30 31 32 33]\n",
       " [34 35 36 37]\n",
       " [38 39 40 41]]\n"
      ]
     },
     "metadata": {},
     "output_type": "display_data"
    }
   ],
   "source": [
    "# 6. Матрица 3x4 с числами от 30 до 41\n",
    "matrix_3x4 = np.arange(30, 42).reshape(3, 4)\n",
    "print(\"\\nМатрица 3x4 с числами от 30 до 41:\")\n",
    "print(matrix_3x4)"
   ]
  },
  {
   "cell_type": "code",
   "execution_count": null,
   "id": "878ca2da",
   "metadata": {},
   "outputs": [
    {
     "data": {
      "text/plain": [
       "\n",
       "Матрица 10x10 с единицами на границах:\n",
       "[[1 1 1 1 1 1 1 1 1 1]\n",
       " [1 0 0 0 0 0 0 0 0 1]\n",
       " [1 0 0 0 0 0 0 0 0 1]\n",
       " [1 0 0 0 0 0 0 0 0 1]\n",
       " [1 0 0 0 0 0 0 0 0 1]\n",
       " [1 0 0 0 0 0 0 0 0 1]\n",
       " [1 0 0 0 0 0 0 0 0 1]\n",
       " [1 0 0 0 0 0 0 0 0 1]\n",
       " [1 0 0 0 0 0 0 0 0 1]\n",
       " [1 1 1 1 1 1 1 1 1 1]]\n"
      ]
     },
     "metadata": {},
     "output_type": "display_data"
    }
   ],
   "source": [
    "# 7. Матрица 10x10 с единицами на границах\n",
    "border_matrix = np.zeros((10, 10), dtype=np.int8)\n",
    "border_matrix[:, 0] = border_matrix[:, -1] = 1\n",
    "border_matrix[0, :] = border_matrix[-1, :] = 1\n",
    "print(\"\\nМатрица 10x10 с единицами на границах:\")\n",
    "print(border_matrix)"
   ]
  },
  {
   "cell_type": "code",
   "execution_count": null,
   "id": "4cbe70c1",
   "metadata": {},
   "outputs": [
    {
     "data": {
      "text/plain": [
       "\n",
       "Диагональная матрица 5x5:\n",
       "[[1 0 0 0 0]\n",
       " [0 2 0 0 0]\n",
       " [0 0 3 0 0]\n",
       " [0 0 0 4 0]\n",
       " [0 0 0 0 5]]\n"
      ]
     },
     "metadata": {},
     "output_type": "display_data"
    }
   ],
   "source": [
    "# 8. Диагональная матрица 5x5\n",
    "diag_matrix = np.zeros((5, 5), dtype=np.int8)\n",
    "np.fill_diagonal(diag_matrix, np.arange(1, 6))\n",
    "print(\"\\nДиагональная матрица 5x5:\")\n",
    "print(diag_matrix)"
   ]
  },
  {
   "cell_type": "code",
   "execution_count": null,
   "id": "0c3bb500",
   "metadata": {},
   "outputs": [
    {
     "data": {
      "text/plain": [
       "\n",
       "Шахматный порядок 4x4 с нулями на диагонали:\n",
       "[[0 1 0 1]\n",
       " [1 0 1 0]\n",
       " [0 1 0 1]\n",
       " [1 0 1 0]]\n"
      ]
     },
     "metadata": {},
     "output_type": "display_data"
    }
   ],
   "source": [
    "# 9. Шахматный порядок с нулями на диагонали\n",
    "chess = np.indices((4, 4)).sum(axis=0) % 2\n",
    "np.fill_diagonal(chess, 0)\n",
    "print(\"\\nШахматный порядок 4x4 с нулями на диагонали:\")\n",
    "print(chess)"
   ]
  },
  {
   "cell_type": "code",
   "execution_count": null,
   "id": "fba7569b",
   "metadata": {},
   "outputs": [
    {
     "data": {
      "text/plain": [
       "\n",
       "Дни марта 2017 года:\n",
       "['2017-03-01' '2017-03-02' '2017-03-03' '2017-03-04' '2017-03-05'\n",
       " '2017-03-06' '2017-03-07' '2017-03-08' '2017-03-09' '2017-03-10'\n",
       " '2017-03-11' '2017-03-12' '2017-03-13' '2017-03-14' '2017-03-15'\n",
       " '2017-03-16' '2017-03-17' '2017-03-18' '2017-03-19' '2017-03-20'\n",
       " '2017-03-21' '2017-03-22' '2017-03-23' '2017-03-24' '2017-03-25'\n",
       " '2017-03-26' '2017-03-27' '2017-03-28' '2017-03-29' '2017-03-30'\n",
       " '2017-03-31']\n"
      ]
     },
     "metadata": {},
     "output_type": "display_data"
    }
   ],
   "source": [
    "# 10. Даты марта 2017\n",
    "dates = np.arange('2017-03-01', '2017-04-01', dtype='datetime64[D]')\n",
    "print(\"\\nДни марта 2017 года:\")\n",
    "print(dates)"
   ]
  },
  {
   "cell_type": "markdown",
   "id": "f0e69e2c",
   "metadata": {},
   "source": [
    "# №2 (5 баллов)\n",
    "### Напишите следующие программы, используя только подходящие функции модуля NumPy:"
   ]
  },
  {
   "cell_type": "code",
   "execution_count": null,
   "id": "350b94f2",
   "metadata": {},
   "outputs": [
    {
     "data": {
      "text/plain": [
       "Задача 1: Находение общих элементов\n",
       "Массив 1: [ 0 10 20 40 60]\n",
       "Массив 2: [10 30 40]\n",
       "Общие элементы: [10 40]\n"
      ]
     },
     "metadata": {},
     "output_type": "display_data"
    }
   ],
   "source": [
    "# 1. Находение общих элементов между двумя массивами\n",
    "import numpy as np\n",
    "\n",
    "# Создаём тестовые массивы\n",
    "arr1 = np.array([0, 10, 20, 40, 60])\n",
    "arr2 = np.array([10, 30, 40])\n",
    "\n",
    "# Находим общие элементы\n",
    "common_elements = np.intersect1d(arr1, arr2)\n",
    "\n",
    "print(\"Задача 1: Находение общих элементов\")\n",
    "print(f\"Массив 1: {arr1}\")\n",
    "print(f\"Массив 2: {arr2}\")\n",
    "print(f\"Общие элементы: {common_elements}\")"
   ]
  },
  {
   "cell_type": "code",
   "execution_count": null,
   "id": "97329ad6",
   "metadata": {},
   "outputs": [
    {
     "data": {
      "text/plain": [
       "\n",
       "Задача 2: Получение уникальных элементов\n",
       "Исходный массив: [10 10 20 20 30 30]\n",
       "Уникальные элементы: [10 20 30]\n"
      ]
     },
     "metadata": {},
     "output_type": "display_data"
    }
   ],
   "source": [
    "# 2. Получение уникальных элементов\n",
    "# Тестовый массив с повторяющимися элементами\n",
    "arr = np.array([10, 10, 20, 20, 30, 30])\n",
    "\n",
    "# Получаем уникальные элементы\n",
    "unique_elements = np.unique(arr)\n",
    "\n",
    "print(\"\\nЗадача 2: Получение уникальных элементов\")\n",
    "print(f\"Исходный массив: {arr}\")\n",
    "print(f\"Уникальные элементы: {unique_elements}\")"
   ]
  },
  {
   "cell_type": "code",
   "execution_count": null,
   "id": "d729d9c0",
   "metadata": {},
   "outputs": [
    {
     "data": {
      "text/plain": [
       "\n",
       "Тест с многомерным массивом:\n",
       "Исходный массив:\n",
       "[[1 1]\n",
       " [2 3]]\n",
       "Уникальные элементы: [1 2 3]\n"
      ]
     },
     "metadata": {},
     "output_type": "display_data"
    }
   ],
   "source": [
    "# Тест с многомерным массивом\n",
    "arr_2d = np.array([[1, 1], [2, 3]])\n",
    "unique_elements_2d = np.unique(arr_2d)\n",
    "\n",
    "print(\"\\nТест с многомерным массивом:\")\n",
    "print(f\"Исходный массив:\\n{arr_2d}\")\n",
    "print(f\"Уникальные элементы: {unique_elements_2d}\")"
   ]
  },
  {
   "cell_type": "code",
   "execution_count": null,
   "id": "dc6da019",
   "metadata": {},
   "outputs": [
    {
     "data": {
      "text/plain": [
       "\n",
       "Задача 3: Получение уникальных элементов и их частот\n",
       "Исходный массив: [10 10 20 10 20 20 20 30 30 50 40 40]\n",
       "Уникальные элементы: [10 20 30 40 50]\n",
       "Частоты: [3 4 2 2 1]\n"
      ]
     },
     "metadata": {},
     "output_type": "display_data"
    }
   ],
   "source": [
    "# 3. Получение уникальных элементов и их частот\n",
    "arr = np.array([10, 10, 20, 10, 20, 20, 20, 30, 30, 50, 40, 40])\n",
    "\n",
    "# Получаем уникальные элементы и их частоты\n",
    "unique_elements, frequencies = np.unique(arr, return_counts=True)\n",
    "\n",
    "print(\"\\nЗадача 3: Получение уникальных элементов и их частот\")\n",
    "print(f\"Исходный массив: {arr}\")\n",
    "print(f\"Уникальные элементы: {unique_elements}\")\n",
    "print(f\"Частоты: {frequencies}\")"
   ]
  },
  {
   "cell_type": "code",
   "execution_count": null,
   "id": "e0484b1e",
   "metadata": {},
   "outputs": [
    {
     "data": {
      "text/plain": [
       "\n",
       "4. Повторение массива:\n",
       "1 повторение: [1 2 3 4]\n",
       "2 повторение: [1 2 3 4 1 2 3 4]\n",
       "3 повторение: [1 2 3 4 1 2 3 4 1 2 3 4]\n"
      ]
     },
     "metadata": {},
     "output_type": "display_data"
    }
   ],
   "source": [
    "# 4. Повторение массива\n",
    "arr = np.array([1, 2, 3, 4])\n",
    "print(\"\\n4. Повторение массива:\")\n",
    "for i in range(1, 4):\n",
    "    repeated = np.tile(arr, i)\n",
    "    print(f\"{i} повторение: {repeated}\")"
   ]
  },
  {
   "cell_type": "code",
   "execution_count": null,
   "id": "18591619",
   "metadata": {},
   "outputs": [
    {
     "data": {
      "text/plain": [
       "\n",
       "5. Удаление значений nan:\n",
       "Исходный массив: [200. 300.  nan  nan  nan 700.]\n",
       "Массив без nan: [200. 300. 700.]\n"
      ]
     },
     "metadata": {},
     "output_type": "display_data"
    }
   ],
   "source": [
    "# 5. Удаление значений nan\n",
    "arr = np.array([200., 300., np.nan, np.nan, np.nan, 700.])\n",
    "arr_without_nan = arr[~np.isnan(arr)]\n",
    "print(\"\\n5. Удаление значений nan:\")\n",
    "print(f\"Исходный массив: {arr}\")\n",
    "print(f\"Массив без nan: {arr_without_nan}\")"
   ]
  },
  {
   "cell_type": "code",
   "execution_count": null,
   "id": "ed482cdd",
   "metadata": {},
   "outputs": [
    {
     "data": {
      "text/plain": [
       "\n",
       "Для двумерного массива:\n",
       "Исходный массив:\n",
       "[[ 1.  2.  3.]\n",
       " [nan  0. nan]\n",
       " [ 6.  7. nan]]\n",
       "Массив без nan: [1. 2. 3. 0. 6. 7.]\n"
      ]
     },
     "metadata": {},
     "output_type": "display_data"
    }
   ],
   "source": [
    "# Пример с двумерным массивом\n",
    "arr2d = np.array([[1., 2., 3.], [np.nan, 0., np.nan], [6., 7., np.nan]])\n",
    "arr2d_without_nan = arr2d[~np.isnan(arr2d)]\n",
    "print(f\"\\nДля двумерного массива:\")\n",
    "print(f\"Исходный массив:\\n{arr2d}\")\n",
    "print(f\"Массив без nan: {arr2d_without_nan}\")"
   ]
  },
  {
   "cell_type": "code",
   "execution_count": null,
   "id": "1f63343a",
   "metadata": {},
   "outputs": [
    {
     "data": {
      "text/plain": [
       "\n",
       "6. k наименьших значений:\n",
       "Исходный массив: [ 1.   7.   8.   2.   0.1  3.  15.   2.5]\n",
       "4 наименьших значений: [0.1 1.  2.  2.5]\n"
      ]
     },
     "metadata": {},
     "output_type": "display_data"
    }
   ],
   "source": [
    "# 6. k наименьших значений\n",
    "arr = np.array([1., 7., 8., 2., 0.1, 3., 15., 2.5])\n",
    "k = 4\n",
    "k_smallest = np.sort(arr)[:k]\n",
    "print(\"\\n6. k наименьших значений:\")\n",
    "print(f\"Исходный массив: {arr}\")\n",
    "print(f\"{k} наименьших значений: {k_smallest}\")"
   ]
  },
  {
   "cell_type": "code",
   "execution_count": null,
   "id": "1e8bdb4a",
   "metadata": {},
   "outputs": [
    {
     "data": {
      "text/plain": [
       "\n",
       "7. Поиск ближайшего элемента:\n",
       "Исходный массив: [0.5  1.8  2.1  3.5  4.87 5.13 6.49]\n",
       "Целевое значение: 3.09066280756759\n",
       "Ближайший элемент: 3.5\n"
      ]
     },
     "metadata": {},
     "output_type": "display_data"
    }
   ],
   "source": [
    "# 7. Поиск ближайшего элемента\n",
    "arr = np.array([0.5, 1.8, 2.1, 3.5, 4.87, 5.13, 6.49])\n",
    "target = 3.09066280756759\n",
    "nearest_idx = np.abs(arr - target).argmin()\n",
    "nearest = arr[nearest_idx]\n",
    "print(\"\\n7. Поиск ближайшего элемента:\")\n",
    "print(f\"Исходный массив: {arr}\")\n",
    "print(f\"Целевое значение: {target}\")\n",
    "print(f\"Ближайший элемент: {nearest}\")"
   ]
  },
  {
   "cell_type": "code",
   "execution_count": null,
   "id": "6cf0174f",
   "metadata": {},
   "outputs": [
    {
     "data": {
      "text/plain": [
       "Объединённый массив: ['Python Java' 'PHP C ++']\n"
      ]
     },
     "metadata": {},
     "output_type": "display_data"
    }
   ],
   "source": [
    "# 8. Поэлементное объединение строк\n",
    "arr1 = np.array(['Python', 'PHP'])\n",
    "arr2 = np.array(['Java', 'C ++'])\n",
    "combined = np.char.add(arr1, ' ' + arr2)\n",
    "print(\"Объединённый массив:\", combined)"
   ]
  },
  {
   "cell_type": "code",
   "execution_count": null,
   "id": "1eda74a7",
   "metadata": {},
   "outputs": [
    {
     "data": {
      "text/plain": [
       "\n",
       "Частота 'P': [1 2 0 0 0]\n"
      ]
     },
     "metadata": {},
     "output_type": "display_data"
    }
   ],
   "source": [
    "# 9. Подсчёт частоты буквы 'P'\n",
    "arr = np.array(['Python', 'PHP', 'JS', 'examples', 'html'])\n",
    "p_counts = np.char.count(arr, 'P')\n",
    "print(\"\\nЧастота 'P':\", p_counts)"
   ]
  },
  {
   "cell_type": "code",
   "execution_count": null,
   "id": "bc33ea78",
   "metadata": {},
   "outputs": [
    {
     "data": {
      "text/plain": [
       "\n",
       "Корни x^2 - 4x + 7: [2.+1.73205081j 2.-1.73205081j]\n",
       "Корни x^4 - 11x^3 + 9x^2 + 11x - 10: [10.         -1.          0.99999999  1.00000001]\n"
      ]
     },
     "metadata": {},
     "output_type": "display_data"
    }
   ],
   "source": [
    "# 10. Находение корней полиномов\n",
    "\n",
    "# a) x^2 - 4x + 7\n",
    "coeffs_a = [1, -4, 7]\n",
    "roots_a = np.roots(coeffs_a)\n",
    "print(\"\\nКорни x^2 - 4x + 7:\", roots_a)\n",
    "\n",
    "# b) x^4 - 11x^3 + 9x^2 + 11x - 10\n",
    "coeffs_b = [1, -11, 9, 11, -10]\n",
    "roots_b = np.roots(coeffs_b)\n",
    "print(\"Корни x^4 - 11x^3 + 9x^2 + 11x - 10:\", roots_b)"
   ]
  },
  {
   "cell_type": "markdown",
   "id": "01fc6d9a",
   "metadata": {},
   "source": [
    "# №3 (5 баллов)\n",
    "### Напишите программу, которая будет решать систему линейных уравнений"
   ]
  },
  {
   "cell_type": "code",
   "execution_count": null,
   "id": "f08937bb",
   "metadata": {},
   "outputs": [
    {
     "data": {
      "text/plain": [
       "Введите коэффициенты системы:\n",
       "Решение: x = 2.0000, y = 1.0000\n"
      ]
     },
     "metadata": {},
     "output_type": "display_data"
    }
   ],
   "source": [
    "import numpy as np\n",
    "\n",
    "# Ввод данных\n",
    "print(\"Введите коэффициенты системы:\")\n",
    "a11 = float(input(\"a11 = \"))\n",
    "a12 = float(input(\"a12 = \"))\n",
    "b1 = float(input(\"b1 = \"))\n",
    "\n",
    "a21 = float(input(\"a21 = \"))\n",
    "a22 = float(input(\"a22 = \"))\n",
    "b2 = float(input(\"b2 = \"))\n",
    "\n",
    "# Создание матриц\n",
    "A = np.array([[a11, a12], [a21, a22]])\n",
    "B = np.array([b1, b2])\n",
    "\n",
    "# Проверка определителя\n",
    "det = np.linalg.det(A)\n",
    "\n",
    "if abs(det) < 1e-10:\n",
    "    print(\"Система не имеет единственного решения (определитель равен 0)\")\n",
    "else:\n",
    "    # Решение системы\n",
    "    solution = np.linalg.solve(A, B)\n",
    "    print(f\"Решение: x = {solution[0]:.4f}, y = {solution[1]:.4f}\")"
   ]
  }
 ],
 "metadata": {
  "language_info": {
   "name": "python"
  }
 },
 "nbformat": 4,
 "nbformat_minor": 5
}
